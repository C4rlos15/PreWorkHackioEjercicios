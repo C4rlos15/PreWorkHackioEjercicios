{
 "cells": [
  {
   "cell_type": "markdown",
   "metadata": {},
   "source": [
    "<div style=\"text-align: center;\">\n",
    "  <img src=\"https://github.com/Hack-io-Data/Imagenes/blob/main/01-LogosHackio/logo_celeste@4x.png?raw=true\" alt=\"logo hack(io)\" />\n",
    "</div>"
   ]
  },
  {
   "cell_type": "markdown",
   "metadata": {},
   "source": [
    "#### 1. Acceso a valores. Dado el diccionario:\n",
    "\n",
    "```python\n",
    "alumno = {\n",
    "    \"nombre\": \"Laura\",\n",
    "    \"edad\": 22,\n",
    "    \"carrera\": \"Biología\"\n",
    "}\n",
    "```\n",
    "\n",
    "1.1. Accede y muestra el valor asociado con la clave `\"nombre\"`.\n",
    "\n",
    "1.2. Accede y muestra el valor asociado con la clave `\"carrera\"`.\n"
   ]
  },
  {
   "cell_type": "code",
   "execution_count": 1,
   "metadata": {},
   "outputs": [
    {
     "name": "stdout",
     "output_type": "stream",
     "text": [
      "<class 'dict'>\n",
      "Laura\n",
      "Biologia\n"
     ]
    }
   ],
   "source": [
    "alumno = {\"nombre\": \"Laura\", \n",
    "          \"edad\": 22, \n",
    "          \"carrera\": \"Biologia\"}\n",
    "claves = [\"nombre\", \"edad\", \"carrera\"]\n",
    "print(type(alumno))\n",
    "\n",
    "print(alumno.get(\"nombre\"))\n",
    "print(alumno.get(\"carrera\"))\n"
   ]
  },
  {
   "cell_type": "markdown",
   "metadata": {},
   "source": [
    "#### 2. Actualización de valores. Dado el siguiente diccionario:\n",
    "\n",
    "```python\n",
    "cuenta = {\n",
    "    \"saldo\": 1500,\n",
    "    \"moneda\": \"USD\"\n",
    "}\n",
    "```\n",
    "\n",
    "2.1. Actualiza el valor de la clave `\"saldo\"` a `2000`.\n",
    "\n",
    "2.2. Cambia el valor de `\"moneda\"` a `\"EUR\"`."
   ]
  },
  {
   "cell_type": "code",
   "execution_count": 2,
   "metadata": {},
   "outputs": [
    {
     "name": "stdout",
     "output_type": "stream",
     "text": [
      "{'saldo': 1500, 'moneda': 'USD'}\n",
      "{'saldo': 2000, 'moneda': 'EUR'}\n"
     ]
    }
   ],
   "source": [
    "cuenta = { \"saldo\": 1500, \"moneda\": \"USD\"}\n",
    "print(cuenta)\n",
    "\n",
    "cuenta.update( {\"saldo\": 2000, \"moneda\": \"EUR\"})\n",
    "print(cuenta)"
   ]
  },
  {
   "cell_type": "markdown",
   "metadata": {},
   "source": [
    "\n",
    "#### 3. Añadir nuevas claves. Dado el diccionario:\n",
    "\n",
    "```python\n",
    "vehiculo = {\n",
    "    \"marca\": \"Ford\",\n",
    "    \"modelo\": \"Mustang\"\n",
    "}\n",
    "```\n",
    "\n",
    "3.1. Añade una nueva clave `\"año\"` con el valor `2020`.\n",
    "\n",
    "3.2. Añade una nueva clave `\"color\"` con el valor `\"rojo\"`.\n"
   ]
  },
  {
   "cell_type": "code",
   "execution_count": 3,
   "metadata": {},
   "outputs": [
    {
     "name": "stdout",
     "output_type": "stream",
     "text": [
      "{'marca': 'Ford', 'modelo': 'mustang'}\n",
      "<class 'dict'>\n",
      "{'marca': 'Ford', 'modelo': 'mustang', 'año': 2020, 'color': 'verde'}\n",
      "<class 'dict'>\n"
     ]
    }
   ],
   "source": [
    "vehiculo = {\"marca\": \"Ford\", \"modelo\": \"mustang\"}\n",
    "print(vehiculo)\n",
    "print(type(vehiculo))\n",
    "\n",
    "vehiculo[\"año\"] = 2020\n",
    "vehiculo[\"color\"] = \"verde\"\n",
    "print(vehiculo)\n",
    "print(type(vehiculo))\n"
   ]
  },
  {
   "cell_type": "markdown",
   "metadata": {},
   "source": [
    "#### 4. Eliminar Claves. Dado el diccionario:\n",
    "\n",
    "```python\n",
    "libro = {\n",
    "    \"título\": \"Cien Años de Soledad\",\n",
    "    \"autor\": \"Gabriel García Márquez\",\n",
    "    \"páginas\": 417\n",
    "}\n",
    "```\n",
    "\n",
    "4.1. Elimina la clave `\"páginas\"`.\n",
    "\n",
    "4.2. Elimina la clave `\"título\"`.\n",
    "\n"
   ]
  },
  {
   "cell_type": "code",
   "execution_count": 4,
   "metadata": {},
   "outputs": [
    {
     "name": "stdout",
     "output_type": "stream",
     "text": [
      "{'título': 'Cien Años de Soledad', 'autor': 'Gabriel García Márquez', 'páginas': 417}\n",
      "<class 'dict'>\n",
      "417\n",
      "Cien Años de Soledad\n",
      "{'autor': 'Gabriel García Márquez'}\n"
     ]
    }
   ],
   "source": [
    "libro = { \"título\": \"Cien Años de Soledad\", \"autor\": \"Gabriel García Márquez\", \"páginas\": 417}\n",
    "print(libro)\n",
    "print(type(libro))\n",
    "\n",
    "print(libro.pop(\"páginas\"))\n",
    "print(libro.pop(\"título\"))\n",
    "print(libro)\n",
    "\n",
    "\n",
    "\n"
   ]
  },
  {
   "cell_type": "markdown",
   "metadata": {},
   "source": [
    "\n",
    "#### 5. Verificación de Existencia de Claves. Dado el diccionario:\n",
    "\n",
    "```python\n",
    "pelicula = {\n",
    "    \"título\": \"Inception\",\n",
    "    \"director\": \"Christopher Nolan\"\n",
    "}\n",
    "```\n",
    "5.1. Verifica si la clave `\"director\"` existe en el diccionario.\n",
    "\n",
    "5.2. Verifica si la clave `\"año\"` existe en el diccionario.\n"
   ]
  },
  {
   "cell_type": "code",
   "execution_count": 5,
   "metadata": {},
   "outputs": [
    {
     "name": "stdout",
     "output_type": "stream",
     "text": [
      "{'título': 'Inception', 'director': 'Chirstopher Nolan'}\n",
      "dict_keys(['título', 'director'])\n",
      "Esta la clave director en el diccionario pelicula: True\n",
      "Esta la clave director en el diccionario pelicula: False\n",
      "Chirstopher Nolan\n",
      "None\n",
      "Chirstopher Nolan\n",
      "None\n",
      "dict_keys(['título', 'director', 'año'])\n"
     ]
    }
   ],
   "source": [
    "pelicula = {\"título\": \"Inception\", \"director\": \"Chirstopher Nolan\"}\n",
    "print(pelicula)\n",
    "print(pelicula.keys())\n",
    "print(\"Esta la clave director en el diccionario pelicula:\", \"director\" in pelicula)\n",
    "print(\"Esta la clave director en el diccionario pelicula:\", \"año\" in pelicula)\n",
    "print(pelicula.setdefault(\"director\"))\n",
    "print(pelicula.setdefault(\"año\"))\n",
    "print(pelicula.get(\"director\"))\n",
    "print(pelicula.get(\"año\"))\n",
    "print(pelicula.keys())\n"
   ]
  },
  {
   "cell_type": "markdown",
   "metadata": {},
   "source": [
    "#### 6. Uso del Método `get`. Dado el diccionario:\n",
    "\n",
    "```python\n",
    "ciudad = {\n",
    "    \"nombre\": \"París\",\n",
    "    \"país\": \"Francia\"\n",
    "}\n",
    "```\n",
    "\n",
    "6.1. Usa el método `get` para obtener el valor de la clave `\"nombre\"`.\n",
    "\n",
    "6.2. Usa el método `get` para obtener el valor de la clave `\"población\"` con un valor predeterminado `\"Desconocido\"`.\n"
   ]
  },
  {
   "cell_type": "code",
   "execution_count": 6,
   "metadata": {},
   "outputs": [
    {
     "name": "stdout",
     "output_type": "stream",
     "text": [
      "{'nombre': 'París', 'país': 'Francia'}\n",
      "París\n",
      "None\n"
     ]
    }
   ],
   "source": [
    "ciudad = {\"nombre\": \"París\", \"país\": \"Francia\"}\n",
    "print(ciudad)\n",
    "print(ciudad.get(\"nombre\"))\n",
    "print(ciudad.get(\"poblacion\"))\n",
    "\n"
   ]
  },
  {
   "cell_type": "markdown",
   "metadata": {},
   "source": [
    "#### 7. Actualización con `update`. Dado el diccionario:\n",
    "\n",
    "```python\n",
    "persona = {\n",
    "    \"nombre\": \"Miguel\",\n",
    "    \"correo\": \"miguel@example.com\"\n",
    "}\n",
    "```\n",
    "\n",
    "7.1. Usa el método `update` para añadir las claves `\"edad\"` con valor `30` y `\"teléfono\"` con valor `\"555-1234\"`.\n",
    "\n",
    "7.2. Cambia el valor de la clave `\"correo\"` usando `update`.\n"
   ]
  },
  {
   "cell_type": "code",
   "execution_count": 7,
   "metadata": {},
   "outputs": [
    {
     "name": "stdout",
     "output_type": "stream",
     "text": [
      "{'nombre': 'Miguel', 'correo': 'miguel@example.com'}\n",
      "{'nombre': 'Miguel', 'correo': 'miguel@example.com', 'edad': 30, 'telefono': '555-1234'}\n",
      "{'nombre': 'Miguel', 'correo': 'Hackio@gmail.com', 'edad': 30, 'telefono': '555-1234'}\n"
     ]
    }
   ],
   "source": [
    "persona = { \"nombre\": \"Miguel\", \"correo\": \"miguel@example.com\"}\n",
    "print(persona)\n",
    "nuevo_elemento = {\"edad\":30, \"telefono\": \"555-1234\"}\n",
    "persona.update(nuevo_elemento)\n",
    "print(persona)\n",
    "cambio_clave = {\"correo\":\"Hackio@gmail.com\"}\n",
    "persona.update(cambio_clave)\n",
    "print(persona)\n",
    "\n",
    "\n"
   ]
  }
 ],
 "metadata": {
  "kernelspec": {
   "display_name": "hackio",
   "language": "python",
   "name": "python3"
  },
  "language_info": {
   "codemirror_mode": {
    "name": "ipython",
    "version": 3
   },
   "file_extension": ".py",
   "mimetype": "text/x-python",
   "name": "python",
   "nbconvert_exporter": "python",
   "pygments_lexer": "ipython3",
   "version": "3.12.6"
  }
 },
 "nbformat": 4,
 "nbformat_minor": 2
}
