{
 "cells": [
  {
   "cell_type": "markdown",
   "metadata": {},
   "source": [
    "<div style=\"text-align: center;\">\n",
    "  <img src=\"https://github.com/Hack-io-Data/Imagenes/blob/main/01-LogosHackio/logo_celeste@4x.png?raw=true\" alt=\"logo hack(io)\" />\n",
    "</div>"
   ]
  },
  {
   "cell_type": "markdown",
   "metadata": {},
   "source": [
    "####  1. Genera una lista de números del 0 al 4 y luego imprime cada número en la lista usando un `bucle for`. "
   ]
  },
  {
   "cell_type": "code",
   "execution_count": 4,
   "metadata": {},
   "outputs": [
    {
     "name": "stdout",
     "output_type": "stream",
     "text": [
      "0\n",
      "1\n",
      "2\n",
      "3\n",
      "4\n"
     ]
    }
   ],
   "source": [
    "numeros = [ 0, 1, 2, 3, 4]\n",
    "for numeros in numeros:\n",
    "    print(numeros)\n",
    "      "
   ]
  },
  {
   "cell_type": "markdown",
   "metadata": {},
   "source": [
    "#### 2. Itera sobre una lista de frutas y muestra cada fruta en mayúsculas. \n"
   ]
  },
  {
   "cell_type": "code",
   "execution_count": 5,
   "metadata": {},
   "outputs": [
    {
     "name": "stdout",
     "output_type": "stream",
     "text": [
      "PERA\n",
      "MANZANA\n",
      "PLATANO\n",
      "SANDIA\n",
      "MELÓN\n"
     ]
    }
   ],
   "source": [
    "lista_frutas = [\"Pera\", \"Manzana\", \"Platano\", \"Sandia\",\"Melón\"]\n",
    "for i in lista_frutas:\n",
    "    print(i.upper())\n"
   ]
  },
  {
   "cell_type": "markdown",
   "metadata": {},
   "source": [
    "####  3. Genera un bucle while que imprima los números del 0 al 4. \n"
   ]
  },
  {
   "cell_type": "code",
   "execution_count": 108,
   "metadata": {},
   "outputs": [
    {
     "name": "stdout",
     "output_type": "stream",
     "text": [
      "0\n",
      "1\n",
      "2\n",
      "3\n",
      "4\n"
     ]
    }
   ],
   "source": [
    "numero = 0\n",
    "while numero <= 4:\n",
    "    print(numero)\n",
    "    numero += 1\n",
    "    "
   ]
  },
  {
   "cell_type": "markdown",
   "metadata": {},
   "source": [
    "#### 4. Genera un bucle del 0 al 9, pero que se detenga en el 5.\n"
   ]
  },
  {
   "cell_type": "code",
   "execution_count": 111,
   "metadata": {},
   "outputs": [
    {
     "name": "stdout",
     "output_type": "stream",
     "text": [
      "0\n",
      "1\n",
      "2\n",
      "3\n",
      "4\n",
      "5\n"
     ]
    }
   ],
   "source": [
    "for x in range(10):\n",
    "    if x == 6:\n",
    "        break\n",
    "    print(x)\n",
    "    "
   ]
  },
  {
   "cell_type": "markdown",
   "metadata": {},
   "source": [
    "#### 5. Recorre los números del 0 al 9 e imprime solo los números impares."
   ]
  },
  {
   "cell_type": "code",
   "execution_count": 35,
   "metadata": {},
   "outputs": [
    {
     "name": "stdout",
     "output_type": "stream",
     "text": [
      "1\n",
      "3\n",
      "5\n",
      "7\n",
      "9\n"
     ]
    }
   ],
   "source": [
    "numeros = range (0, 10)\n",
    "for x in range(1,10,2):\n",
    "    print(x)\n"
   ]
  },
  {
   "cell_type": "markdown",
   "metadata": {},
   "source": [
    "#### 6. Dada la lista `[10, 20, 30, 40, 50]`, calcula la suma de todos los elementos usando un bucle `for`."
   ]
  },
  {
   "cell_type": "code",
   "execution_count": 43,
   "metadata": {},
   "outputs": [
    {
     "name": "stdout",
     "output_type": "stream",
     "text": [
      "150\n"
     ]
    }
   ],
   "source": [
    "lista_n = [10, 20, 30, 40, 50]\n",
    "resultado = 0\n",
    "for suma in lista_n:\n",
    "    resultado += suma\n",
    "print(resultado)\n"
   ]
  },
  {
   "cell_type": "markdown",
   "metadata": {},
   "source": [
    "#### 7. Dada la cadena `\"Hola mundo\"`, cuenta cuántas veces aparecen las vocales (`a`, `e`, `i`, `o`, `u`) usando un bucle `for`.\n"
   ]
  },
  {
   "cell_type": "code",
   "execution_count": 107,
   "metadata": {},
   "outputs": [
    {
     "name": "stdout",
     "output_type": "stream",
     "text": [
      "{'a': 1, 'e': 0, 'i': 0, 'o': 2, 'u': 1}\n"
     ]
    }
   ],
   "source": [
    "saludo = \"Hola mundo\"\n",
    "vocales = {'a':0, 'e':0, 'i':0, 'o':0, 'u':0}\n",
    "for i in saludo:\n",
    "    if i in vocales:\n",
    "        vocales[i] += 1\n",
    "print(vocales)\n"
   ]
  },
  {
   "cell_type": "markdown",
   "metadata": {},
   "source": [
    "#### 8. Dada la cadena `\"Python\"`, usa un bucle `for` para imprimir los caracteres en orden inverso (`n`, `o`, `h`, `t`, `y`, `P`).\n"
   ]
  },
  {
   "cell_type": "code",
   "execution_count": 37,
   "metadata": {},
   "outputs": [
    {
     "name": "stdout",
     "output_type": "stream",
     "text": [
      "n\n",
      "o\n",
      "h\n",
      "t\n",
      "y\n",
      "P\n"
     ]
    }
   ],
   "source": [
    "palabra = \"Python\"\n",
    "for inversa in reversed(palabra):\n",
    "    print(inversa)\n",
    "\n"
   ]
  },
  {
   "cell_type": "markdown",
   "metadata": {},
   "source": [
    "#### 9. Dada la lista `[1, 2, 3, 4, 5]`, multiplica todos sus elementos usando un bucle `for` y almacena los resultados en una lista nueva. \n"
   ]
  },
  {
   "cell_type": "code",
   "execution_count": 88,
   "metadata": {},
   "outputs": [
    {
     "name": "stdout",
     "output_type": "stream",
     "text": [
      "[2, 4, 6, 8, 10]\n"
     ]
    }
   ],
   "source": [
    "nuevos_numeros = [1, 2, 3, 4, 5]\n",
    "lista_multiplicacion = []\n",
    "\n",
    "\n",
    "for x in nuevos_numeros:\n",
    "    lista_multiplicacion.append(x * 2)\n",
    "print(lista_multiplicacion)\n"
   ]
  },
  {
   "cell_type": "markdown",
   "metadata": {},
   "source": [
    "#### 10. Dada la lista `[1, 2, 3, 4, 5, 6, 7, 8, 9, 10]`, utiliza un bucle `for` para contar cuántos números son pares y cuántos son impares."
   ]
  },
  {
   "cell_type": "code",
   "execution_count": 12,
   "metadata": {},
   "outputs": [
    {
     "name": "stdout",
     "output_type": "stream",
     "text": [
      "[2, 4, 6, 8, 10]\n",
      "[1, 3, 5, 7, 9]\n"
     ]
    }
   ],
   "source": [
    "lista1 = [1, 2, 3, 4, 5, 6, 7, 8, 9, 10]\n",
    "numeros_pares = []\n",
    "numeros_impares = []\n",
    "\n",
    "for i in lista1:\n",
    "    if i % 2 == 0:\n",
    "        numeros_pares.append(i)\n",
    "    else:\n",
    "        numeros_impares.append(i)\n",
    "print(numeros_pares)\n",
    "print(numeros_impares)\n"
   ]
  },
  {
   "cell_type": "markdown",
   "metadata": {},
   "source": [
    "#### 11. Escribe un programa que solicite al usuario un número entero positivo (`n`) y calcule la suma de todos los números primos menores o iguales a `n`. Utiliza un bucle `for` para iterar sobre cada número y verifica si es primo."
   ]
  },
  {
   "cell_type": "code",
   "execution_count": 15,
   "metadata": {},
   "outputs": [
    {
     "name": "stdout",
     "output_type": "stream",
     "text": [
      "La suma de todos los números primos menores o iguales a 15 es: 41\n"
     ]
    }
   ],
   "source": [
    "def primo(numero):\n",
    "    if numero <=1:\n",
    "        return False\n",
    "    for i in range(2, int(numero**0.5)+1):\n",
    "        if numero % i ==0:\n",
    "            return False\n",
    "    return True\n",
    "n = int(input(\"Introduce un número entero positivo:\"))\n",
    "suma_primos = 0\n",
    "for num in range(2, n+1):\n",
    "    if primo(num):\n",
    "     suma_primos += num\n",
    "print(f\"La suma de todos los números primos menores o iguales a {n} es: {suma_primos}\")\n"
   ]
  },
  {
   "cell_type": "markdown",
   "metadata": {},
   "source": [
    "#### 12. Escribe un programa que solicite al usuario un número entero positivo (`n`) y luego imprima un patrón de asteriscos como el siguiente ejemplo para `n = 5`:\n",
    "```\n",
    "*\n",
    "**\n",
    "***\n",
    "****\n",
    "*****\n",
    "```\n",
    "Utiliza un bucle `for` anidado para controlar la cantidad de asteriscos en cada línea."
   ]
  },
  {
   "cell_type": "code",
   "execution_count": 7,
   "metadata": {},
   "outputs": [
    {
     "name": "stdout",
     "output_type": "stream",
     "text": [
      "*\n",
      "**\n",
      "***\n",
      "****\n",
      "*****\n",
      "******\n",
      "*******\n",
      "********\n"
     ]
    }
   ],
   "source": [
    "n = int(input(\"Introduce un número entero positivo\"))\n",
    "if n > 0:\n",
    "    for numero_positivo in range(1, n + 1):\n",
    "        print(\"*\" * numero_positivo)\n",
    "else:\n",
    "    print(\"Introduce un número positivo entero\")"
   ]
  },
  {
   "cell_type": "markdown",
   "metadata": {},
   "source": [
    "#### 13. Dado un texto, utiliza un bucle `for` para contar cuántas veces aparece cada palabra en el texto. Ignora mayúsculas/minúsculas y los signos de puntuación."
   ]
  },
  {
   "cell_type": "code",
   "execution_count": 34,
   "metadata": {},
   "outputs": [
    {
     "name": "stdout",
     "output_type": "stream",
     "text": [
      "Buenos: 1\n",
      "días,: 1\n",
      "estas: 1\n",
      "realizando: 1\n",
      "el: 2\n",
      "PreWork: 1\n",
      "del: 2\n",
      "Bootcamp: 2\n",
      "de: 1\n",
      "DataScience,: 1\n",
      "mejor: 1\n",
      "mundo: 1\n"
     ]
    }
   ],
   "source": [
    "texto = \"Buenos días, estas realizando el PreWork del Bootcamp de DataScience, el mejor Bootcamp del mundo\"\n",
    "\n",
    "palabras = texto.split()\n",
    "\n",
    "lista_palabras = {}\n",
    "\n",
    "for palabra in palabras:\n",
    "    if palabra in lista_palabras:\n",
    "        lista_palabras[palabra] += 1\n",
    "    else:\n",
    "        lista_palabras[palabra] = 1\n",
    "\n",
    "for palabra, conteo in lista_palabras.items():\n",
    "    print(f\"{palabra}: {conteo}\")\n"
   ]
  },
  {
   "cell_type": "markdown",
   "metadata": {},
   "source": [
    "#### 14. Escribe un programa que solicite al usuario dos números enteros positivos (`inicio` y `fin`, donde `inicio <= fin`) y luego calcule la suma de los números pares y la suma de los números impares en ese rango. Utiliza un bucle `for` para iterar sobre cada número y una estructura `if-else` para clasificar y sumar los números pares e impares."
   ]
  },
  {
   "cell_type": "code",
   "execution_count": 136,
   "metadata": {},
   "outputs": [
    {
     "name": "stdout",
     "output_type": "stream",
     "text": [
      "250\n",
      "275\n"
     ]
    }
   ],
   "source": [
    "inicio = int(input(\"introduce un número positivo inicial\"))\n",
    "fin = int(input(\"Introduce un número postivo final\"))\n",
    "\n",
    "if inicio > fin:\n",
    "    print (\"El número final deber ser mayor o igual que el número inicial\")\n",
    "else:\n",
    "    suma_pares = 0\n",
    "    suma_impares = 0\n",
    "for numero in range(inicio, fin + 1):\n",
    "    if numero % 2 == 0:\n",
    "        suma_pares += numero\n",
    "    else:\n",
    "        suma_impares += numero\n",
    "print(suma_pares)\n",
    "print(suma_impares)\n"
   ]
  },
  {
   "cell_type": "markdown",
   "metadata": {},
   "source": [
    "#### 15. Escribe un programa que solicite al usuario un número entero positivo (`n`) y luego identifique todos los números primos menores o iguales a `n`. Para cada número, imprime si es primo o no usando un bucle `for` y una estructura `if-else` para verificar la condición de primalidad."
   ]
  },
  {
   "cell_type": "code",
   "execution_count": 21,
   "metadata": {},
   "outputs": [
    {
     "name": "stdout",
     "output_type": "stream",
     "text": [
      "1 es primo.\n",
      "2 es primo.\n",
      "3 es primo.\n",
      "4 no es primo.\n",
      "5 es primo.\n",
      "6 no es primo.\n",
      "7 es primo.\n",
      "8 no es primo.\n",
      "9 no es primo.\n",
      "10 no es primo.\n"
     ]
    }
   ],
   "source": [
    "\n",
    "n = int(input(\"Ingresa un número entero positivo:\"))\n",
    "\n",
    "if n <= 0:\n",
    "    print(\"Ingresa un número entero positivo mayor que cero.\")\n",
    "else:    \n",
    "    for numero in range(1, n + 1):\n",
    "        primo = True\n",
    "\n",
    "        for i in range(2, int(numero*0.5)+1):\n",
    "              if numero % i == 0:\n",
    "                primo = False\n",
    "                break\n",
    "\n",
    "        if primo:\n",
    "            print(f\"{numero} es primo.\")\n",
    "        else:\n",
    "            print(f\"{numero} no es primo.\")\n",
    "\n"
   ]
  },
  {
   "cell_type": "markdown",
   "metadata": {},
   "source": [
    "#### 16.Dada una lista de precios `[100, 200, 300, 400, 500]`, aplica un descuento del 10% a todos los precios mayores a `250`. Imprime la lista actualizada de precios después de aplicar el descuento utilizando un bucle `for`. "
   ]
  },
  {
   "cell_type": "code",
   "execution_count": 36,
   "metadata": {},
   "outputs": [
    {
     "name": "stdout",
     "output_type": "stream",
     "text": [
      "Lista de precios con descuento [270.0, 360.0, 450.0]\n"
     ]
    }
   ],
   "source": [
    "lista_precios = [100, 200, 300, 400, 500]\n",
    "descuentos = []\n",
    "for precios in lista_precios:\n",
    "    if precios > 250:\n",
    "        precios *= 0.9\n",
    "        descuentos.append(precios)\n",
    "print(\"Lista de precios con descuento\", descuentos)\n"
   ]
  },
  {
   "cell_type": "markdown",
   "metadata": {},
   "source": [
    "#### 17. Dada una lista de calificaciones de estudiantes `[85, 92, 78, 90, 88]`, clasifica a cada estudiante como \"Aprobado\" si la calificación es mayor o igual a `80` y como \"Reprobado\" si es menor a `80`. Imprime el nombre de cada estudiante junto con su estado utilizando un bucle `for` y una estructura `if-else`.\n"
   ]
  },
  {
   "cell_type": "code",
   "execution_count": 144,
   "metadata": {},
   "outputs": [
    {
     "name": "stdout",
     "output_type": "stream",
     "text": [
      "Ana 85 Aprobado\n",
      "Pablo 92 Aprobado\n",
      "Laura 78 Reprobado\n",
      "Marta 90 Aprobado\n",
      "Alberto 88 Aprobado\n"
     ]
    }
   ],
   "source": [
    "lista_notas = {'Ana': 85,\n",
    "               'Pablo': 92,\n",
    "               'Laura': 78,\n",
    "               'Marta': 90,\n",
    "               'Alberto': 88}\n",
    "\n",
    "for nombres, notas in lista_notas.items():\n",
    "    if notas >= 80:\n",
    "        print(nombres, notas, \"Aprobado\") \n",
    "    else:\n",
    "        print(nombres, notas, \"Reprobado\")\n",
    "\n"
   ]
  },
  {
   "cell_type": "markdown",
   "metadata": {},
   "source": [
    "\n",
    "#### 18. Escribe un programa que solicite al usuario dos números enteros positivos (`inicio`, `fin`) y otro número entero positivo (`divisor`). Encuentra el número más grande en el rango desde `inicio` hasta `fin` que sea divisible por `divisor`. Utiliza un bucle `for` y una estructura `if-else` para verificar y mantener el registro del número más grande divisible por el divisor dado.\n"
   ]
  },
  {
   "cell_type": "code",
   "execution_count": 28,
   "metadata": {},
   "outputs": [
    {
     "name": "stdout",
     "output_type": "stream",
     "text": [
      "El número más grande en el rango de 5 a 50 que es divisible por 6 es: 48\n"
     ]
    }
   ],
   "source": [
    "inicio = int(input(\"Introduce un número de inicio positivo\"))\n",
    "fin = int(input(\"introduce un número final positivo\"))\n",
    "divisor = int(input(\"intrpduce un número entero positivo\"))\n",
    "mas_grande = None\n",
    "\n",
    "for numero in range(inicio, fin + 1):\n",
    "    if numero % divisor == 0:\n",
    "        if mas_grande is None or numero > mas_grande:\n",
    "            mas_grande = numero\n",
    "if mas_grande is not None:\n",
    "    print(f\"El número más grande en el rango de {inicio} a {fin} que es divisible por {divisor} es: {mas_grande}\")\n",
    "else: \n",
    "     print(\"No exite ningun número divisible en el rango selecionado\")\n",
    "\n",
    "\n",
    "\n",
    "\n"
   ]
  }
 ],
 "metadata": {
  "kernelspec": {
   "display_name": "hackio",
   "language": "python",
   "name": "python3"
  },
  "language_info": {
   "codemirror_mode": {
    "name": "ipython",
    "version": 3
   },
   "file_extension": ".py",
   "mimetype": "text/x-python",
   "name": "python",
   "nbconvert_exporter": "python",
   "pygments_lexer": "ipython3",
   "version": "3.12.6"
  }
 },
 "nbformat": 4,
 "nbformat_minor": 2
}
