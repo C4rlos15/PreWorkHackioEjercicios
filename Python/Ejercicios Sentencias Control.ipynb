{
 "cells": [
  {
   "cell_type": "markdown",
   "metadata": {},
   "source": [
    "<div style=\"text-align: center;\">\n",
    "  <img src=\"https://github.com/Hack-io-Data/Imagenes/blob/main/01-LogosHackio/logo_celeste@4x.png?raw=true\" alt=\"logo hack(io)\" />\n",
    "</div>"
   ]
  },
  {
   "cell_type": "markdown",
   "metadata": {},
   "source": [
    "#### 1. Escribe un programa que determine si un número es par o impar.\n",
    "\n"
   ]
  },
  {
   "cell_type": "code",
   "execution_count": 1,
   "metadata": {},
   "outputs": [
    {
     "name": "stdout",
     "output_type": "stream",
     "text": [
      "El número tiene un valor impar 5\n"
     ]
    }
   ],
   "source": [
    "numero_usuario = int(input(\"introduce un número\"))\n",
    "if numero_usuario <= 0:\n",
    "    print( \"número no valido, introduce un número con valor positivo superior a cero\")\n",
    "elif numero_usuario % 2 == 0:\n",
    "    print (\"El número\", numero_usuario, \"tiene un valor par\")\n",
    "else:\n",
    "    print(\"El número tiene un valor impar\", numero_usuario)\n"
   ]
  },
  {
   "cell_type": "markdown",
   "metadata": {},
   "source": [
    "#### 2. Genera un programa que nos diga si es de noche, de día o tarde según la hora proporcionada por el usuario."
   ]
  },
  {
   "cell_type": "code",
   "execution_count": 77,
   "metadata": {},
   "outputs": [
    {
     "name": "stdout",
     "output_type": "stream",
     "text": [
      "Son las 22.59 es de noche\n"
     ]
    }
   ],
   "source": [
    "hora = float(input(\"Introduce la hora, en formato 24.00h\"))\n",
    "\n",
    "if hora >= 7.00 and hora <= 7.59 or hora >= 8.00 and hora <= 8.59 or hora >= 9.00 and hora <= 9.59 or hora >= 10.00 and hora <= 10.59 or hora >= 11.00 and hora <= 11.59 or hora >= 12.00 and hora <= 12.59 or hora >= 13.00 and hora <= 13.59 or hora >= 14.00 and hora <= 14.59 or hora >= 15.00 and hora <= 15.59 or hora >= 16.00 and hora <= 16.59 or hora >= 17.00 and hora <= 17.59 or hora >= 18.00 and hora <= 18.59 or hora >= 19.00 and hora <= 19.59 or hora >= 20.00 and hora <= 20.59:\n",
    "     print(\"Son las\", round(hora,2), \"es de día\")\n",
    "elif hora >= 21.00 and hora <= 21.59 or hora >= 22.00 and hora <= 22.59 or hora >= 23.00 and hora <= 23.59 or hora >= 00.00 and hora <= 00.59 or hora >= 01.00 and hora <= 01.59 or hora >= 02.00 and hora <= 02.59 or hora >= 03.00 and hora <= 03.59 or hora >= 04.00 and hora <= 04.59 or hora >= 05.00 and hora <= 05.59 or hora >= 06.00 and hora <= 06.59:\n",
    "     print(\"Son las\", round(hora,2), \"es de noche\")\n",
    "else:\n",
    "     print(\"La hora seleccionada no existe\")\n",
    "\n",
    "\n"
   ]
  },
  {
   "cell_type": "markdown",
   "metadata": {},
   "source": [
    "#### 3. Dado un nombre imprime un saludo personalizado."
   ]
  },
  {
   "cell_type": "code",
   "execution_count": 78,
   "metadata": {},
   "outputs": [
    {
     "name": "stdout",
     "output_type": "stream",
     "text": [
      "Buenos días carlos espero que tengas un buen días\n"
     ]
    }
   ],
   "source": [
    "nombre = input(\"Escribe tu nombre\")\n",
    "print(\"Buenos días\", nombre,\"espero que tengas un buen días\")\n"
   ]
  },
  {
   "cell_type": "markdown",
   "metadata": {},
   "source": [
    "#### 4. Escribe un programa que determine qué calificación en texto tiene un alumno en base a su calificación numérica. Las reglas de calificación son: \n",
    "\n",
    "- 0 - 69 insuficiente\n",
    "\n",
    "- 70 - 79 bien\n",
    "\n",
    "- 80 - 89 muy bien\n",
    "\n",
    "- 90 - 100 excelente\n"
   ]
  },
  {
   "cell_type": "code",
   "execution_count": 83,
   "metadata": {},
   "outputs": [
    {
     "name": "stdout",
     "output_type": "stream",
     "text": [
      "Tu notas es: 85\n",
      "Esta Muy bien\n"
     ]
    }
   ],
   "source": [
    "notas = int(input(\"Puntuación obtenida en el examen\"))\n",
    "print(\"Tu notas es:\",notas)\n",
    "if notas < 0:\n",
    "    print(\"La puntuación debe estar contenida entre 0 y 100\")\n",
    "elif notas >= 0 and notas <= 69:\n",
    "        print( \"Es Insuficiente\")\n",
    "elif notas >=70 and notas <= 79:\n",
    "        print(\"Esta Bien\")\n",
    "elif notas >= 80 and notas <= 89:\n",
    "        print(\"Esta Muy bien\")\n",
    "elif notas >= 90 and notas <= 100:\n",
    "        print(\"Es ¡Excelente! :)\")  \n",
    "else:\n",
    "        print(\"¡La puntuación maxima es de 100 puntos, esto no es posible!\")"
   ]
  },
  {
   "cell_type": "markdown",
   "metadata": {},
   "source": [
    "#### 5. Escribe un programa que imprima el día de la semana, dado un número del 1 al 7.\n"
   ]
  },
  {
   "cell_type": "code",
   "execution_count": 85,
   "metadata": {},
   "outputs": [
    {
     "name": "stdout",
     "output_type": "stream",
     "text": [
      "Es Viernes\n"
     ]
    }
   ],
   "source": [
    "\n",
    "dia = int(input(\"Elige un número del 1 - 7 para indicar un día de la semana \"))\n",
    "\n",
    "if dia == 1:\n",
    "    print(\"Es Lunes\")\n",
    "elif dia == 2:\n",
    "    print(\"Es Martes\")\n",
    "elif dia == 3:\n",
    "    print(\"Es Miercoles\")\n",
    "elif dia == 4:\n",
    "    print(\"Es Jueves\")\n",
    "elif dia == 5:\n",
    "    print(\"Es Viernes\")\n",
    "elif dia == 6:\n",
    "    print(\"Es Sabado\")\n",
    "elif dia == 7:\n",
    "    print(\"Es Domingo\")\n",
    "else:\n",
    "   print(\"Formato no valido, por favor elige un número del 1 - 7\")\n"
   ]
  },
  {
   "cell_type": "markdown",
   "metadata": {},
   "source": [
    "#### 6. Escribe un programa que determine si un número es positivo, negativo o cero."
   ]
  },
  {
   "cell_type": "code",
   "execution_count": 87,
   "metadata": {},
   "outputs": [
    {
     "name": "stdout",
     "output_type": "stream",
     "text": [
      "El número -889 es Negativo\n"
     ]
    }
   ],
   "source": [
    "numero = int(input(\"Introduce un número\"))\n",
    "if numero > 0:\n",
    "    print(\"El número\", numero, \"es Positivo:\")\n",
    "elif numero < 0:\n",
    "    print(\"El número\", numero, \"es Negativo\")\n",
    "else:\n",
    "    print(\"El número es Cero\")\n",
    "\n",
    "\n"
   ]
  },
  {
   "cell_type": "markdown",
   "metadata": {},
   "source": [
    "#### 7. Escribe un programa que determine si una persona puede conducir o no. La edad mínima para conducir es 18 años. \n"
   ]
  },
  {
   "cell_type": "code",
   "execution_count": 104,
   "metadata": {},
   "outputs": [
    {
     "name": "stdout",
     "output_type": "stream",
     "text": [
      "Necesitas obtener el carnet para poder conducir\n"
     ]
    }
   ],
   "source": [
    "mayoria_edad = 18\n",
    "licencia = (\"\")\n",
    "edad_minima = int(input(\"¿Cuantos años tienes?\"))\n",
    "\n",
    "if edad_minima >= mayoria_edad:\n",
    "    licencia = input(\"¿Tienes carnet de conducir?\")\n",
    "    if licencia == \"si\" or licencia == \"Si\" or licencia == \"SI\":\n",
    "        print(\"Entonces puedes conducir\")\n",
    "    elif licencia == \"no\" or licencia == \"No\" or licencia == \"NO\":\n",
    "        print(\"Necesitas obtener el carnet para poder conducir\")\n",
    "else:\n",
    "    print(\"Aun no tienes edad para conducir\")\n",
    "\n",
    "\n",
    "\n",
    "    "
   ]
  },
  {
   "cell_type": "markdown",
   "metadata": {},
   "source": [
    "#### 8. Escribe un programa que determine si un estudiante aprobó o suspendió un examen."
   ]
  },
  {
   "cell_type": "code",
   "execution_count": 90,
   "metadata": {},
   "outputs": [
    {
     "name": "stdout",
     "output_type": "stream",
     "text": [
      "89 Enhorabuena aprobó el examen\n"
     ]
    }
   ],
   "source": [
    "nota_examen = int(input(\"Introduce la puntuación obtenida de 0 - 100\"))\n",
    "\n",
    "if nota_examen >= 50 and nota_examen <= 100:\n",
    "    print(nota_examen, \"Enhorabuena aprobó el examen\")\n",
    "elif nota_examen < 50 and nota_examen >= 0:\n",
    "    print(nota_examen, \"No ha aprobado el examen\")\n",
    "else:\n",
    "    print(\"Formato no valido\")"
   ]
  },
  {
   "cell_type": "markdown",
   "metadata": {},
   "source": [
    "#### 9. Escribe un programa que determine si un número es múltiplo de 3 y 5.\n"
   ]
  },
  {
   "cell_type": "code",
   "execution_count": 93,
   "metadata": {},
   "outputs": [
    {
     "name": "stdout",
     "output_type": "stream",
     "text": [
      "El número 7 no es multiplo de 3, ni de 5\n"
     ]
    }
   ],
   "source": [
    "\n",
    "numero_multiplo = int(input(\"Introduce un número\"))\n",
    "\n",
    "if numero_multiplo % 3 == 0:\n",
    "    print(\"El número\", numero_multiplo, \"es multiplo de 3\")\n",
    "elif numero_multiplo % 5 == 0:\n",
    "    print(\"EL número\", numero_multiplo, \"es multiplo de 5\")\n",
    "else:\n",
    "    print(\"El número\", numero_multiplo, \"no es multiplo de 3, ni de 5\")\n"
   ]
  },
  {
   "cell_type": "markdown",
   "metadata": {},
   "source": [
    "#### 10. Escribe un programa que determine si un número es par o impar.\n"
   ]
  },
  {
   "cell_type": "code",
   "execution_count": 30,
   "metadata": {},
   "outputs": [
    {
     "name": "stdout",
     "output_type": "stream",
     "text": [
      "El número -155 es impar\n"
     ]
    }
   ],
   "source": [
    "tipo_numero = int(input(\"Introduce un número\"))\n",
    "\n",
    "if tipo_numero % 2 == 0:\n",
    "    print(\"El número\", tipo_numero, \"es par\")\n",
    "else:\n",
    "    print(\"El número\", tipo_numero, \"es impar\")"
   ]
  }
 ],
 "metadata": {
  "kernelspec": {
   "display_name": "hackio",
   "language": "python",
   "name": "python3"
  },
  "language_info": {
   "codemirror_mode": {
    "name": "ipython",
    "version": 3
   },
   "file_extension": ".py",
   "mimetype": "text/x-python",
   "name": "python",
   "nbconvert_exporter": "python",
   "pygments_lexer": "ipython3",
   "version": "3.12.6"
  }
 },
 "nbformat": 4,
 "nbformat_minor": 2
}
